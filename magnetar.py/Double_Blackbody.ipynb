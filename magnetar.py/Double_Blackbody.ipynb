{
  "nbformat": 4,
  "nbformat_minor": 0,
  "metadata": {
    "kernelspec": {
      "display_name": "Python 3 (Anaconda 2019.03)",
      "language": "python",
      "name": "python3-2019.03"
    },
    "language_info": {
      "codemirror_mode": {
        "name": "ipython",
        "version": 3
      },
      "file_extension": ".py",
      "mimetype": "text/x-python",
      "name": "python",
      "nbconvert_exporter": "python",
      "pygments_lexer": "ipython3",
      "version": "3.7.3"
    },
    "colab": {
      "name": "Double_Blackbody.ipynb",
      "provenance": [],
      "toc_visible": true
    }
  },
  "cells": [
    {
      "cell_type": "markdown",
      "metadata": {
        "id": "onpdicp8XYoU",
        "colab_type": "text"
      },
      "source": [
        "# Get the entire repository"
      ]
    },
    {
      "cell_type": "code",
      "metadata": {
        "id": "wVojwfrxZw5j",
        "colab_type": "code",
        "colab": {
          "base_uri": "https://localhost:8080/",
          "height": 156
        },
        "outputId": "e1c1d1c0-b82b-4aad-a5c8-0bcba5b7b4a1"
      },
      "source": [
        "# Get the entire archive (maybe you already have it)\n",
        "! git clone https://github.com/UBC-Astrophysics/QEDSurface.git"
      ],
      "execution_count": 1,
      "outputs": [
        {
          "output_type": "stream",
          "text": [
            "Cloning into 'QEDSurface'...\n",
            "remote: Enumerating objects: 96, done.\u001b[K\n",
            "remote: Counting objects: 100% (96/96), done.\u001b[K\n",
            "remote: Compressing objects: 100% (90/90), done.\u001b[K\n",
            "remote: Total 1757 (delta 64), reused 13 (delta 6), pack-reused 1661\u001b[K\n",
            "Receiving objects: 100% (1757/1757), 78.18 MiB | 11.41 MiB/s, done.\n",
            "Resolving deltas: 100% (722/722), done.\n",
            "Checking out files: 100% (1618/1618), done.\n"
          ],
          "name": "stdout"
        }
      ]
    },
    {
      "cell_type": "code",
      "metadata": {
        "id": "4cjFdjq-WsKu",
        "colab_type": "code",
        "colab": {}
      },
      "source": [
        "# change the directory if you have to\n",
        "import os\n",
        "os.chdir('QEDSurface/magnetar.py')\n"
      ],
      "execution_count": 2,
      "outputs": []
    },
    {
      "cell_type": "code",
      "metadata": {
        "id": "WpU0mCDrXEJi",
        "colab_type": "code",
        "colab": {
          "base_uri": "https://localhost:8080/",
          "height": 34
        },
        "outputId": "cc7e8e97-f3a0-4749-f3d5-deefbd0cdf96"
      },
      "source": [
        "# update just in case\n",
        "! git pull"
      ],
      "execution_count": 3,
      "outputs": [
        {
          "output_type": "stream",
          "text": [
            "Already up to date.\n"
          ],
          "name": "stdout"
        }
      ]
    },
    {
      "cell_type": "markdown",
      "metadata": {
        "id": "uMyzH8-kXosM",
        "colab_type": "text"
      },
      "source": [
        "# Load Libraries"
      ]
    },
    {
      "cell_type": "code",
      "metadata": {
        "id": "N0v75W0AZrZA",
        "colab_type": "code",
        "colab": {}
      },
      "source": [
        "import numba\n",
        "import numpy as np\n",
        "from Magnetar import pfield, pfield_array, surface_model\n",
        "import matplotlib.pyplot as plt\n"
      ],
      "execution_count": 4,
      "outputs": []
    },
    {
      "cell_type": "markdown",
      "metadata": {
        "id": "FmpZjvZ9X-E7",
        "colab_type": "text"
      },
      "source": [
        "# Load the double black-body surface map"
      ]
    },
    {
      "cell_type": "code",
      "metadata": {
        "id": "5jBM5rRcX9Bb",
        "colab_type": "code",
        "colab": {}
      },
      "source": [
        "import glob\n",
        "allsurface=surface_model().loaddata(glob.glob('Sample_Atmospheres/doubleBB_h/*.int'))\n",
        "aa=allsurface.mcolat\n",
        "# copy the front surface to the back of the star\n",
        "# add the angles\n",
        "allsurface.mcolat=aa+[180-i for i in aa[::-1]]\n",
        "# add the patches\n",
        "allsurface.patches=allsurface.patches+allsurface.patches[::-1]"
      ],
      "execution_count": 5,
      "outputs": []
    },
    {
      "cell_type": "markdown",
      "metadata": {
        "id": "wN-7aY6LXvvt",
        "colab_type": "text"
      },
      "source": [
        "# Work with a single orientation"
      ]
    },
    {
      "cell_type": "markdown",
      "metadata": {
        "id": "X8yN3EltX1Rl",
        "colab_type": "text"
      },
      "source": [
        "## Load the propagation file (pfield)"
      ]
    },
    {
      "cell_type": "code",
      "metadata": {
        "id": "UfNvZ38dZrZ1",
        "colab_type": "code",
        "colab": {}
      },
      "source": [
        "pfield_test=pfield().loaddata('Sample_Pfields/pfield_models_QED/pfield_5keV_30deg')\n"
      ],
      "execution_count": 6,
      "outputs": []
    },
    {
      "cell_type": "markdown",
      "metadata": {
        "id": "jr-QaD-7YU4m",
        "colab_type": "text"
      },
      "source": [
        "## Calculate intensities across the image"
      ]
    },
    {
      "cell_type": "code",
      "metadata": {
        "id": "jCcBr616ZraD",
        "colab_type": "code",
        "colab": {
          "base_uri": "https://localhost:8080/",
          "height": 34
        },
        "outputId": "24473875-9a49-4451-c4a7-680ae5e6ef3b"
      },
      "source": [
        "# Calculate the intensity across the surface at 1.65426 keV as observed\n",
        "pfield_test.recalculate(1.65426,allsurface,gtt=(1-2*2.0/10.0)**0.5)"
      ],
      "execution_count": 7,
      "outputs": [
        {
          "output_type": "execute_result",
          "data": {
            "text/plain": [
              "(1093.828016529843, -1073.7088231657501)"
            ]
          },
          "metadata": {
            "tags": []
          },
          "execution_count": 7
        }
      ]
    },
    {
      "cell_type": "code",
      "metadata": {
        "scrolled": true,
        "id": "ithAMy9zZraQ",
        "colab_type": "code",
        "colab": {
          "base_uri": "https://localhost:8080/",
          "height": 54
        },
        "outputId": "b6a130df-4164-4ce2-91c9-68b28f7ed733"
      },
      "source": [
        "print(allsurface.mcolat)\n",
        "# print(pfield_test.qmean/pfield_test.imean)"
      ],
      "execution_count": 8,
      "outputs": [
        {
          "output_type": "stream",
          "text": [
            "[0.0, 1.6, 2.0, 9.0, 18.195, 31.788, 41.41, 49.458, 56.633, 63.256, 69.513, 75.522, 81.373, 98.627, 104.478, 110.487, 116.744, 123.36699999999999, 130.542, 138.59, 148.212, 161.805, 171.0, 178.0, 178.4, 180.0]\n"
          ],
          "name": "stdout"
        }
      ]
    },
    {
      "cell_type": "code",
      "metadata": {
        "id": "AXz3sz6vC6kl",
        "colab_type": "code",
        "colab": {}
      },
      "source": [
        "# calculate the mean intensity over the surface for a range of photon energies\n",
        "pfield_test.calcvalues(allsurface,gtt=(1-2*2.0/10.0)**0.5)\n",
        "ee=pfield_test.ebins\n",
        "ivec=pfield_test.iint\n",
        "qvec=pfield_test.qint\n"
      ],
      "execution_count": 9,
      "outputs": []
    },
    {
      "cell_type": "markdown",
      "metadata": {
        "id": "Klna3vHkgVP-",
        "colab_type": "text"
      },
      "source": [
        "## Print the data arrays"
      ]
    },
    {
      "cell_type": "code",
      "metadata": {
        "id": "pJH9JAiQgcJP",
        "colab_type": "code",
        "colab": {
          "base_uri": "https://localhost:8080/",
          "height": 1000
        },
        "outputId": "48dd155f-2eba-4610-b498-04db65ccec55"
      },
      "source": [
        "print(pfield_test)"
      ],
      "execution_count": 10,
      "outputs": [
        {
          "output_type": "stream",
          "text": [
            "# Phi[rad]             Energy[keV]    I             Q/I\n",
            "    0.523599     0.316228      624.194    -0.958252\n",
            "    0.523599     0.331285       616.02    -0.956729\n",
            "    0.523599      0.34706      605.914    -0.955139\n",
            "    0.523599     0.363585      594.458       -0.953\n",
            "    0.523599     0.380897      576.433    -0.948342\n",
            "    0.523599     0.399034      558.949    -0.959452\n",
            "    0.523599     0.418034      531.609    -0.969812\n",
            "    0.523599      0.43794       514.88     -0.96453\n",
            "    0.523599     0.458792      492.826    -0.961902\n",
            "    0.523599     0.480638      482.325    -0.960166\n",
            "    0.523599     0.503524      474.285     -0.95878\n",
            "    0.523599       0.5275      473.477    -0.957615\n",
            "    0.523599     0.552617      492.981    -0.957833\n",
            "    0.523599      0.57893      521.704     -0.95862\n",
            "    0.523599     0.606496      582.597    -0.962401\n",
            "    0.523599     0.635375      650.796    -0.965996\n",
            "    0.523599     0.665629      727.761    -0.968777\n",
            "    0.523599     0.697324      795.999    -0.971144\n",
            "    0.523599     0.730527      869.182    -0.973294\n",
            "    0.523599     0.765312      933.027    -0.974929\n",
            "    0.523599     0.801753      980.198    -0.975973\n",
            "    0.523599     0.839929       1031.7    -0.977023\n",
            "    0.523599     0.879923      1084.36     -0.97803\n",
            "    0.523599     0.921821      1134.01    -0.978955\n",
            "    0.523599     0.965714      1175.24    -0.979763\n",
            "    0.523599       1.0117      1200.75    -0.980408\n",
            "    0.523599      1.05987      1204.29    -0.980571\n",
            "    0.523599      1.11034      1205.82    -0.980725\n",
            "    0.523599      1.16321      1205.08     -0.98087\n",
            "    0.523599      1.21859      1201.81    -0.981005\n",
            "    0.523599      1.27662       1195.7    -0.981129\n",
            "    0.523599       1.3374      1186.43    -0.981243\n",
            "    0.523599      1.40109      1173.67    -0.981346\n",
            "    0.523599       1.4678      1157.04    -0.981436\n",
            "    0.523599      1.53769      1136.17    -0.981513\n",
            "    0.523599      1.61091      1110.64    -0.981577\n",
            "    0.523599      1.68761      1080.05    -0.981626\n",
            "    0.523599      1.76797      1043.94    -0.981659\n",
            "    0.523599      1.85215      1001.87    -0.981675\n",
            "    0.523599      1.94034      953.371    -0.981672\n",
            "    0.523599      2.03274      915.067    -0.981655\n",
            "    0.523599      2.12953      876.427    -0.981611\n",
            "    0.523599      2.23092      834.365    -0.981542\n",
            "    0.523599      2.33715      788.977    -0.981466\n",
            "    0.523599      2.44844      740.444    -0.981385\n",
            "    0.523599      2.56502       689.07    -0.981305\n",
            "    0.523599      2.68716      635.277     -0.98123\n",
            "    0.523599      2.81511      579.645    -0.981164\n",
            "    0.523599      2.94915      522.992    -0.981113\n",
            "    0.523599      3.08958      466.403     -0.98109\n",
            "    0.523599      3.23669      411.284    -0.981114\n",
            "    0.523599      3.39081      359.429    -0.981208\n",
            "    0.523599      3.55226      316.652    -0.981369\n",
            "    0.523599      3.72141      279.827    -0.981666\n",
            "    0.523599       3.8986      247.691    -0.982149\n",
            "    0.523599      4.08424      220.219    -0.982854\n",
            "    0.523599      4.27871      197.233    -0.983798\n",
            "    0.523599      4.48245      178.353    -0.984967\n",
            "    0.523599      4.69588      162.944    -0.986301\n",
            "    0.523599      4.91948      150.072    -0.987705\n",
            "    0.523599      5.15372      138.054    -0.989105\n",
            "    0.523599      5.39912      125.187     -0.99045\n",
            "    0.523599      5.65621      112.621    -0.991598\n",
            "    0.523599      5.92553      100.603    -0.992533\n",
            "    0.523599      6.20768      89.4486    -0.993241\n",
            "    0.523599      6.50326      79.5439    -0.993733\n",
            "    0.523599      6.81292       68.297    -0.994235\n",
            "    0.523599      7.13732      59.9233    -0.994586\n",
            "    0.523599      7.47717       54.132    -0.994742\n",
            "    0.523599       7.8332      48.4504    -0.994805\n",
            "    0.523599      8.20619       41.181    -0.994566\n",
            "    0.523599      8.59693      35.5951    -0.994096\n",
            "    0.523599      9.00628      30.9734    -0.993516\n",
            "    0.523599      9.43512      25.8382    -0.992609\n",
            "    0.523599      9.88438      20.4825    -0.991204\n",
            "    0.523599       10.355      15.2966    -0.989016\n",
            "    0.523599      10.8481       11.557    -0.986432\n",
            "    0.523599      11.3646      8.98887    -0.983674\n",
            "    0.523599      11.9058      6.78518    -0.980006\n",
            "    0.523599      12.4727      4.95619    -0.975048\n",
            "    0.523599      13.0666      3.46439    -0.968068\n",
            "    0.523599      13.6887      2.29304    -0.957836\n",
            "    0.523599      14.3405      1.45101    -0.943006\n",
            "    0.523599      15.0234     0.888188    -0.921759\n",
            "    0.523599      15.7387     0.505531    -0.888691\n",
            "    0.523599      16.4881     0.278834    -0.844043\n",
            "    0.523599      17.2732     0.171652    -0.815177\n",
            "    0.523599      18.0957     0.130918    -0.834084\n",
            "    0.523599      18.9574     0.101121    -0.866813\n",
            "    0.523599        19.86    0.0671985    -0.878438\n",
            "    0.523599      20.8057    0.0345577    -0.850469\n",
            "    0.523599      21.7964   0.00954411    -0.644675\n",
            "    0.523599      22.8342   0.00289446    -0.427517\n",
            "    0.523599      23.9215   0.00285247    -0.658784\n",
            "    0.523599      25.0605   0.00285278    -0.658832\n",
            "    0.523599      26.2538   0.00285278    -0.658832\n",
            "    0.523599      27.5039   0.00285278    -0.658832\n",
            "    0.523599      28.8135   0.00285278    -0.658832\n",
            "    0.523599      30.1855   0.00285278    -0.658832\n",
            "    0.523599      31.6228   0.00285278    -0.658832\n",
            "\n"
          ],
          "name": "stdout"
        }
      ]
    },
    {
      "cell_type": "markdown",
      "metadata": {
        "id": "_1b-1mqrgdYG",
        "colab_type": "text"
      },
      "source": [
        "## Let's do some plots"
      ]
    },
    {
      "cell_type": "code",
      "metadata": {
        "id": "iDfm-ztgZrbA",
        "colab_type": "code",
        "colab": {}
      },
      "source": [
        "# load a datafile\n",
        "datae,dataf=np.loadtxt('4U_0142+614.dat',unpack=True,usecols=(0,1))"
      ],
      "execution_count": 11,
      "outputs": []
    },
    {
      "cell_type": "code",
      "metadata": {
        "id": "My6uG49gZrbT",
        "colab_type": "code",
        "colab": {}
      },
      "source": [
        "# get the mean intensities and energy bins for the orientation\n",
        "ee=np.array(pfield_test.ebins)\n",
        "ivec=pfield_test.iint\n",
        "qvec=pfield_test.qint\n",
        "# load a file with the interstellar absorption model\n",
        "eabs,sabs=np.loadtxt('tbabs.dat',unpack=True)\n",
        "sabs=sabs\n",
        "ii=np.argsort(eabs)\n",
        "eabs=eabs[ii]\n",
        "sabs=sabs[ii]\n",
        "# absorption cross-section per hydrogen atom in units of 1e-24 cm^2 for our energy bins\n",
        "ssabs=np.interp(ee,eabs,sabs)/(ee)**3*1e-24\n",
        "# the best-fit hydrogen column is 0.52e22 /cm2\n",
        "totabs=np.exp(-0.6e22*ssabs)"
      ],
      "execution_count": 12,
      "outputs": []
    },
    {
      "cell_type": "code",
      "metadata": {
        "scrolled": true,
        "id": "PNAzMJomZrbd",
        "colab_type": "code",
        "colab": {
          "base_uri": "https://localhost:8080/",
          "height": 531
        },
        "outputId": "35dd5e70-d987-4e1d-8913-13a19adbc4a2"
      },
      "source": [
        "# plot the model against the data\n",
        "norm=1.7e4\n",
        "plt.loglog(datae,dataf,'.')\n",
        "plt.loglog(ee,totabs*ivec/norm)\n",
        "plt.loglog(ee,totabs*(ivec/norm+ee**1.3/1.2e4),'r')\n",
        "plt.ylim(1e-3,1e-1)\n",
        "plt.show()\n",
        "plt.plot(ee,(-ee**1.3/1.2e4/3+qvec/norm)/(ivec/norm+ee**1.3/1.2e4))\n",
        "plt.plot(ee,qvec/ivec)\n",
        "plt.plot([ee[0],ee[-1]],[-0.33,-0.33])\n",
        "plt.plot([ee[0],ee[-1]],[-1.0,-1.0])\n",
        "plt.xscale(\"log\")\n",
        "plt.ylim(-1.1,0)\n",
        "plt.show()"
      ],
      "execution_count": 13,
      "outputs": [
        {
          "output_type": "display_data",
          "data": {
            "image/png": "[encoded data removed]",
            "text/plain": [
              "<Figure size 432x288 with 1 Axes>"
            ]
          },
          "metadata": {
            "tags": [],
            "needs_background": "light"
          }
        },
        {
          "output_type": "display_data",
          "data": {
            "image/png": "[encoded data removed]",
            "text/plain": [
              "<Figure size 432x288 with 1 Axes>"
            ]
          },
          "metadata": {
            "tags": [],
            "needs_background": "light"
          }
        }
      ]
    },
    {
      "cell_type": "markdown",
      "metadata": {
        "id": "pxoQmEU9Y5ay",
        "colab_type": "text"
      },
      "source": [
        "# Work with all orientations"
      ]
    },
    {
      "cell_type": "markdown",
      "metadata": {
        "id": "P8uLSlHnY_Ya",
        "colab_type": "text"
      },
      "source": [
        "## Load the orientation files"
      ]
    },
    {
      "cell_type": "code",
      "metadata": {
        "id": "Ep0myokya86B",
        "colab_type": "code",
        "colab": {}
      },
      "source": [
        "pfieldarray_test=pfield_array().loaddata(glob.glob('Sample_Pfields/pfield_models_QED/*'))"
      ],
      "execution_count": 14,
      "outputs": []
    },
    {
      "cell_type": "markdown",
      "metadata": {
        "id": "QkhCVNcpZHHb",
        "colab_type": "text"
      },
      "source": [
        "## Calculate the mean intensities for all orientations and energies"
      ]
    },
    {
      "cell_type": "code",
      "metadata": {
        "id": "wPC1PHOnqT_C",
        "colab_type": "code",
        "colab": {}
      },
      "source": [
        "pfieldarray_test.calcvalues(allsurface,gtt=(1-2*2.0/10.0)**0.5)"
      ],
      "execution_count": null,
      "outputs": []
    },
    {
      "cell_type": "code",
      "metadata": {
        "id": "HvtuWNIGpNXj",
        "colab_type": "code",
        "colab": {}
      },
      "source": [
        "print(pfieldarray_test)"
      ],
      "execution_count": null,
      "outputs": []
    },
    {
      "cell_type": "markdown",
      "metadata": {
        "id": "yjQIcfaCZ8bg",
        "colab_type": "text"
      },
      "source": [
        "## Plot the mean intensity over the orientations"
      ]
    },
    {
      "cell_type": "code",
      "metadata": {
        "id": "DazskBy8ZZNV",
        "colab_type": "code",
        "colab": {}
      },
      "source": [
        "ivec=[pf.iint  for pf in pfieldarray_test.pfi]\n",
        "qvec=[pf.qint  for pf in pfieldarray_test.pfi]\n",
        "ee=pfieldarray_test.pfi[0].ebins"
      ],
      "execution_count": null,
      "outputs": []
    },
    {
      "cell_type": "code",
      "metadata": {
        "id": "9Up6Qcs0ZrcE",
        "colab_type": "code",
        "colab": {}
      },
      "source": [
        "totivec = (ivec[0]+ivec[1]+ivec[2]+ivec[3]+ivec[4]+ivec[5]+ivec[6])/7\n",
        "totqvec = (qvec[0]+qvec[1]+qvec[2]+qvec[3]+qvec[4]+qvec[5]+qvec[6])/7\n",
        "plt.loglog(datae,dataf,'.')\n",
        "plt.loglog(ee*(1-2*2.0/10.0)**0.5,totabs*totivec*ee/10e4)\n",
        "plt.loglog(ee*(1-2*2.0/10.0)**0.5,totabs*(totivec*ee/10e4+ee**1.3/1.2e4),'r')\n",
        "plt.ylim(1e-3,1e-1)\n",
        "plt.show()\n",
        "plt.plot(ee,(-ee**1.3/1.2e4/3+totqvec/10e4)/(totivec/10e4+ee**1.3/1.2e4))\n",
        "plt.plot(ee,totqvec/totivec)\n",
        "plt.plot([ee[0],ee[-1]],[-0.33,-0.33])\n",
        "plt.plot([ee[0],ee[-1]],[-1.0,-1.0])\n",
        "plt.xscale(\"log\")\n",
        "plt.ylim(-1.1,0)\n",
        "plt.show()"
      ],
      "execution_count": null,
      "outputs": []
    },
    {
      "cell_type": "markdown",
      "metadata": {
        "id": "-APzrnNHdlH-",
        "colab_type": "text"
      },
      "source": [
        "## Plot the intensity for several orientations"
      ]
    },
    {
      "cell_type": "code",
      "metadata": {
        "id": "fBhBI9xPZrcM",
        "colab_type": "code",
        "colab": {}
      },
      "source": [
        "plt.loglog(datae,dataf,'.')\n",
        "plt.loglog(ee,totabs*(ivec[0]/4e4+ee**1.3/1.2e4))\n",
        "plt.loglog(ee,totabs*(ivec[3]/4e4+ee**1.3/1.2e4))\n",
        "plt.loglog(ee,totabs*(ivec[6]/4e4+ee**1.3/1.2e4))\n",
        "plt.ylim(1e-3,1e-1)\n",
        "plt.show()\n",
        "plt.plot(ee,(-ee**1.3/1.2e4/3+qvec[0]/4e4)/(ivec[0]/4e4+ee**1.3/1.2e4))\n",
        "plt.plot(ee,(-ee**1.3/1.2e4/3+qvec[3]/4e4)/(ivec[3]/4e4+ee**1.3/1.2e4))\n",
        "plt.plot(ee,(-ee**1.3/1.2e4/3+qvec[6]/4e4)/(ivec[6]/4e4+ee**1.3/1.2e4))\n",
        "#plt.plot(ee,totqvec/totivec)\n",
        "plt.plot([ee[0],ee[-1]],[-0.33,-0.33])\n",
        "plt.plot([ee[0],ee[-1]],[-1.0,-1.0])\n",
        "plt.xscale(\"log\")\n",
        "plt.ylim(-1.1,0.0)\n",
        "plt.show()"
      ],
      "execution_count": null,
      "outputs": []
    },
    {
      "cell_type": "markdown",
      "metadata": {
        "id": "mTqb7aoGamgs",
        "colab_type": "text"
      },
      "source": [
        "# Experiment with QED-on and QED-off"
      ]
    },
    {
      "cell_type": "markdown",
      "metadata": {
        "id": "mITlOXK_aqYg",
        "colab_type": "text"
      },
      "source": [
        "## Load a QED-off propagation model"
      ]
    },
    {
      "cell_type": "code",
      "metadata": {
        "id": "XQ6mefPzZrcU",
        "colab_type": "code",
        "colab": {}
      },
      "source": [
        "pf30=pfield().loaddata('Sample_Pfields/pfield_models_noQED/pfield_noQED_30')\n",
        "pf30.recalculate(5,allsurface)"
      ],
      "execution_count": null,
      "outputs": []
    },
    {
      "cell_type": "code",
      "metadata": {
        "id": "-G1PhCRcZrca",
        "colab_type": "code",
        "colab": {}
      },
      "source": [
        "q=pf30.plot(datamap=np.log10(pf30.data['X']+pf30.data['O']),cmap='inferno',ellipsecolor=[0,0.9,0])\n",
        "q.savefig('HS30NoQED.pdf',bbox_inches='tight')"
      ],
      "execution_count": null,
      "outputs": []
    },
    {
      "cell_type": "markdown",
      "metadata": {
        "id": "dcs4Euozd_H4",
        "colab_type": "text"
      },
      "source": [
        "## Load a QED-on propagation model"
      ]
    },
    {
      "cell_type": "code",
      "metadata": {
        "scrolled": true,
        "id": "MLDDez63Zrch",
        "colab_type": "code",
        "colab": {}
      },
      "source": [
        "pf30Q=pfield().loaddata('Sample_Pfields/pfield_models_QED/pfield_5keV_30deg')\n",
        "pf30Q.recalculate(5,allsurface)\n"
      ],
      "execution_count": null,
      "outputs": []
    },
    {
      "cell_type": "code",
      "metadata": {
        "id": "6cNq_FeTZrcn",
        "colab_type": "code",
        "colab": {}
      },
      "source": [
        "q=pf30Q.plot(datamap=np.log10(pf30Q.data['X']+pf30Q.data['O']),cmap='inferno',ellipsecolor=[0,0.9,0])\n",
        "q.savefig('HS30.pdf',bbox_inches='tight')"
      ],
      "execution_count": null,
      "outputs": []
    },
    {
      "cell_type": "code",
      "metadata": {
        "id": "e6JB5hI9rOme",
        "colab_type": "code",
        "colab": {}
      },
      "source": [
        ""
      ],
      "execution_count": null,
      "outputs": []
    }
  ]
}